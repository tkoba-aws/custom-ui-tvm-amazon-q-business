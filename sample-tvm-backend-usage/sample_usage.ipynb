{
 "cells": [
  {
   "cell_type": "markdown",
   "metadata": {},
   "source": [
    "## Use the TVM Client Script to get a SigV4 AWS credential\n",
    "\n",
    "To obtain an AWS SigV4 temporary credential using TVM, use the provided TVM client script and call the `get_sigv4_credentials()` function with an email.\n",
    "\n",
    "Note: You must provide the values for\n",
    "- `issuer`: the issuer URL\n",
    "- `client_id`: the client_id found in SSM Parameter store under the name `/oidc/client_id`\n",
    "- `client_secret`: the client_secret found in SSM Parameter store under the name `/oidc/client_secret`\n",
    "- `role_arn`: the IAM role created by the TVM CDK stack to assume, this is the role that has Amazon Q Business permissions\n",
    "- `region`: the region where the Amazon Q Business Application is setup\n",
    "- `email`: the user's email"
   ]
  },
  {
   "cell_type": "code",
   "execution_count": null,
   "metadata": {},
   "outputs": [],
   "source": [
    "from tvm_client import TVMClient\n",
    "\n",
    "token_client = TVMClient(\n",
    "        issuer=\"<issuer_url>\",\n",
    "        client_id=\"<client_id>\",\n",
    "        client_secret=\"<client_secret>\",\n",
    "        role_arn=\"<iam_role_arn>\",\n",
    "        region=\"<region>\"\n",
    ")\n",
    "    \n",
    "# Get Sigv4 credentials using TVM\n",
    "credentials = token_client.get_sigv4_credentials(email=\"<email>\")"
   ]
  },
  {
   "cell_type": "markdown",
   "metadata": {},
   "source": [
    "### Use SigV4 credentials to initialize Amazon Q Business Client\n",
    "\n",
    "We will then initialize an Amazon Q Business Boto3 (Python) client with the SigV4 credentials obtained using the TVM Client script to make calls to Amazon Q Business APIs (in this case the `ChatSync` API).\n",
    "\n",
    "See Amazon Q Business [API documentation](https://docs.aws.amazon.com/amazonq/latest/api-reference/API_Operations_QBusiness.html) for more details on the available APIs."
   ]
  },
  {
   "cell_type": "code",
   "execution_count": null,
   "metadata": {},
   "outputs": [],
   "source": [
    "!pip install boto3 --upgrade"
   ]
  },
  {
   "cell_type": "code",
   "execution_count": null,
   "metadata": {},
   "outputs": [],
   "source": [
    "import boto3\n",
    "\n",
    "qbiz = boto3.client(\"qbusiness\", region_name=\"<region>\", **credentials)\n",
    "\n",
    "chat_params = {\n",
    "    \"applicationId\": \"<q_business_app_id>\",\n",
    "    \"userMessage\": \"<chat_question>\"\n",
    "}\n",
    "response = qbiz.chat_sync(**chat_params)\n",
    "\n",
    "print(response['systemMessage'])\n",
    "print(\"=========Sources=========\")\n",
    "for source in response['sourceAttributions']:\n",
    "    print(f'Title: {source[\"title\"]}, URL: {source[\"url\"]}')\n",
    "        "
   ]
  },
  {
   "cell_type": "markdown",
   "metadata": {},
   "source": [
    "You can use the TVM client script with an AWS Lambda function to obtain SigV4 credentials and make calls to Amazon Q Business APIs using the said SigV4 credentials."
   ]
  },
  {
   "cell_type": "code",
   "execution_count": null,
   "metadata": {},
   "outputs": [],
   "source": []
  }
 ],
 "metadata": {
  "kernelspec": {
   "display_name": "oidcenv",
   "language": "python",
   "name": "python3"
  },
  "language_info": {
   "codemirror_mode": {
    "name": "ipython",
    "version": 3
   },
   "file_extension": ".py",
   "mimetype": "text/x-python",
   "name": "python",
   "nbconvert_exporter": "python",
   "pygments_lexer": "ipython3",
   "version": "3.11.9"
  }
 },
 "nbformat": 4,
 "nbformat_minor": 2
}
